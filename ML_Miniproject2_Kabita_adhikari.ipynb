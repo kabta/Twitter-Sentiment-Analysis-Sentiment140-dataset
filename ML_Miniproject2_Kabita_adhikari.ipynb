{
  "nbformat": 4,
  "nbformat_minor": 0,
  "metadata": {
    "colab": {
      "provenance": [],
      "mount_file_id": "1Y7_hUFAkOXMTLrytZ13IAW5yyEgrFfF2",
      "authorship_tag": "ABX9TyPr158sgdpJgwITddTSCtz8",
      "include_colab_link": true
    },
    "kernelspec": {
      "name": "python3",
      "display_name": "Python 3"
    },
    "language_info": {
      "name": "python"
    }
  },
  "cells": [
    {
      "cell_type": "markdown",
      "metadata": {
        "id": "view-in-github",
        "colab_type": "text"
      },
      "source": [
        "<a href=\"https://colab.research.google.com/github/kabta/Twitter-Sentiment-Analysis-Sentiment140-dataset/blob/main/ML_Miniproject2_Kabita_adhikari.ipynb\" target=\"_parent\"><img src=\"https://colab.research.google.com/assets/colab-badge.svg\" alt=\"Open In Colab\"/></a>"
      ]
    },
    {
      "cell_type": "markdown",
      "source": [
        "# **Importing the necessary utilities**"
      ],
      "metadata": {
        "id": "CSQd5X5NRD84"
      }
    },
    {
      "cell_type": "code",
      "execution_count": 2,
      "metadata": {
        "id": "2pDnjAS_Jg3q",
        "colab": {
          "base_uri": "https://localhost:8080/"
        },
        "outputId": "106ecfc8-6050-4ec0-e1ba-d418264ca73b"
      },
      "outputs": [
        {
          "output_type": "stream",
          "name": "stderr",
          "text": [
            "[nltk_data] Downloading package punkt to /root/nltk_data...\n",
            "[nltk_data]   Package punkt is already up-to-date!\n",
            "[nltk_data] Downloading package stopwords to /root/nltk_data...\n",
            "[nltk_data]   Package stopwords is already up-to-date!\n"
          ]
        }
      ],
      "source": [
        "import numpy as np\n",
        "import pandas as pd\n",
        "import matplotlib.pyplot as plt\n",
        "import re\n",
        "import nltk\n",
        "nltk.download('punkt')\n",
        "nltk.download('stopwords')\n",
        "\n",
        "from nltk.stem import SnowballStemmer\n",
        "from nltk.corpus import stopwords\n",
        "from nltk.tokenize import sent_tokenize, word_tokenize\n",
        "from collections import Counter\n",
        "import seaborn as sns\n",
        "from sklearn.model_selection import train_test_split\n",
        "import string\n"
      ]
    },
    {
      "cell_type": "code",
      "source": [
        "data_url=\"https://raw.githubusercontent.com/kabta/Twitter-Sentiment-Analysis-Sentiment140-dataset/main/Sentiment140.tenPercent.sample.tweets.tsv\"\n",
        "\n",
        "df_tweets = pd.read_table(data_url, usecols=['sentiment_label', 'tweet_text'])"
      ],
      "metadata": {
        "id": "3Vl4Ph4Gyq-E"
      },
      "execution_count": 3,
      "outputs": []
    },
    {
      "cell_type": "code",
      "source": [
        "df_tweets"
      ],
      "metadata": {
        "colab": {
          "base_uri": "https://localhost:8080/",
          "height": 424
        },
        "id": "dxvUHrls1Bf3",
        "outputId": "1c93dfe7-6063-4c2f-acec-1fe1e73443c7"
      },
      "execution_count": 4,
      "outputs": [
        {
          "output_type": "execute_result",
          "data": {
            "text/plain": [
              "        sentiment_label                                         tweet_text\n",
              "0                     4  @elephantbird Hey dear, Happy Friday to You  A...\n",
              "1                     4  Ughhh layin downnnn    Waiting for zeina to co...\n",
              "2                     0  @greeniebach I reckon he'll play, even if he's...\n",
              "3                     0              @vaLewee I know!  Saw it on the news!\n",
              "4                     0  very sad that http://www.fabchannel.com/ has c...\n",
              "...                 ...                                                ...\n",
              "159995                0  STILL @ panera...studying for &quot;mock&quot;...\n",
              "159996                0  Insomnia is out of control tonight--haven't sl...\n",
              "159997                4            @Covergirl08 I take pride in what I do \n",
              "159998                4                          heading to work on the 6 \n",
              "159999                4                                   @queith asi es! \n",
              "\n",
              "[160000 rows x 2 columns]"
            ],
            "text/html": [
              "\n",
              "  <div id=\"df-4088777b-91da-4f9e-b52e-0977ea629fef\">\n",
              "    <div class=\"colab-df-container\">\n",
              "      <div>\n",
              "<style scoped>\n",
              "    .dataframe tbody tr th:only-of-type {\n",
              "        vertical-align: middle;\n",
              "    }\n",
              "\n",
              "    .dataframe tbody tr th {\n",
              "        vertical-align: top;\n",
              "    }\n",
              "\n",
              "    .dataframe thead th {\n",
              "        text-align: right;\n",
              "    }\n",
              "</style>\n",
              "<table border=\"1\" class=\"dataframe\">\n",
              "  <thead>\n",
              "    <tr style=\"text-align: right;\">\n",
              "      <th></th>\n",
              "      <th>sentiment_label</th>\n",
              "      <th>tweet_text</th>\n",
              "    </tr>\n",
              "  </thead>\n",
              "  <tbody>\n",
              "    <tr>\n",
              "      <th>0</th>\n",
              "      <td>4</td>\n",
              "      <td>@elephantbird Hey dear, Happy Friday to You  A...</td>\n",
              "    </tr>\n",
              "    <tr>\n",
              "      <th>1</th>\n",
              "      <td>4</td>\n",
              "      <td>Ughhh layin downnnn    Waiting for zeina to co...</td>\n",
              "    </tr>\n",
              "    <tr>\n",
              "      <th>2</th>\n",
              "      <td>0</td>\n",
              "      <td>@greeniebach I reckon he'll play, even if he's...</td>\n",
              "    </tr>\n",
              "    <tr>\n",
              "      <th>3</th>\n",
              "      <td>0</td>\n",
              "      <td>@vaLewee I know!  Saw it on the news!</td>\n",
              "    </tr>\n",
              "    <tr>\n",
              "      <th>4</th>\n",
              "      <td>0</td>\n",
              "      <td>very sad that http://www.fabchannel.com/ has c...</td>\n",
              "    </tr>\n",
              "    <tr>\n",
              "      <th>...</th>\n",
              "      <td>...</td>\n",
              "      <td>...</td>\n",
              "    </tr>\n",
              "    <tr>\n",
              "      <th>159995</th>\n",
              "      <td>0</td>\n",
              "      <td>STILL @ panera...studying for &amp;quot;mock&amp;quot;...</td>\n",
              "    </tr>\n",
              "    <tr>\n",
              "      <th>159996</th>\n",
              "      <td>0</td>\n",
              "      <td>Insomnia is out of control tonight--haven't sl...</td>\n",
              "    </tr>\n",
              "    <tr>\n",
              "      <th>159997</th>\n",
              "      <td>4</td>\n",
              "      <td>@Covergirl08 I take pride in what I do</td>\n",
              "    </tr>\n",
              "    <tr>\n",
              "      <th>159998</th>\n",
              "      <td>4</td>\n",
              "      <td>heading to work on the 6</td>\n",
              "    </tr>\n",
              "    <tr>\n",
              "      <th>159999</th>\n",
              "      <td>4</td>\n",
              "      <td>@queith asi es!</td>\n",
              "    </tr>\n",
              "  </tbody>\n",
              "</table>\n",
              "<p>160000 rows × 2 columns</p>\n",
              "</div>\n",
              "      <button class=\"colab-df-convert\" onclick=\"convertToInteractive('df-4088777b-91da-4f9e-b52e-0977ea629fef')\"\n",
              "              title=\"Convert this dataframe to an interactive table.\"\n",
              "              style=\"display:none;\">\n",
              "        \n",
              "  <svg xmlns=\"http://www.w3.org/2000/svg\" height=\"24px\"viewBox=\"0 0 24 24\"\n",
              "       width=\"24px\">\n",
              "    <path d=\"M0 0h24v24H0V0z\" fill=\"none\"/>\n",
              "    <path d=\"M18.56 5.44l.94 2.06.94-2.06 2.06-.94-2.06-.94-.94-2.06-.94 2.06-2.06.94zm-11 1L8.5 8.5l.94-2.06 2.06-.94-2.06-.94L8.5 2.5l-.94 2.06-2.06.94zm10 10l.94 2.06.94-2.06 2.06-.94-2.06-.94-.94-2.06-.94 2.06-2.06.94z\"/><path d=\"M17.41 7.96l-1.37-1.37c-.4-.4-.92-.59-1.43-.59-.52 0-1.04.2-1.43.59L10.3 9.45l-7.72 7.72c-.78.78-.78 2.05 0 2.83L4 21.41c.39.39.9.59 1.41.59.51 0 1.02-.2 1.41-.59l7.78-7.78 2.81-2.81c.8-.78.8-2.07 0-2.86zM5.41 20L4 18.59l7.72-7.72 1.47 1.35L5.41 20z\"/>\n",
              "  </svg>\n",
              "      </button>\n",
              "      \n",
              "  <style>\n",
              "    .colab-df-container {\n",
              "      display:flex;\n",
              "      flex-wrap:wrap;\n",
              "      gap: 12px;\n",
              "    }\n",
              "\n",
              "    .colab-df-convert {\n",
              "      background-color: #E8F0FE;\n",
              "      border: none;\n",
              "      border-radius: 50%;\n",
              "      cursor: pointer;\n",
              "      display: none;\n",
              "      fill: #1967D2;\n",
              "      height: 32px;\n",
              "      padding: 0 0 0 0;\n",
              "      width: 32px;\n",
              "    }\n",
              "\n",
              "    .colab-df-convert:hover {\n",
              "      background-color: #E2EBFA;\n",
              "      box-shadow: 0px 1px 2px rgba(60, 64, 67, 0.3), 0px 1px 3px 1px rgba(60, 64, 67, 0.15);\n",
              "      fill: #174EA6;\n",
              "    }\n",
              "\n",
              "    [theme=dark] .colab-df-convert {\n",
              "      background-color: #3B4455;\n",
              "      fill: #D2E3FC;\n",
              "    }\n",
              "\n",
              "    [theme=dark] .colab-df-convert:hover {\n",
              "      background-color: #434B5C;\n",
              "      box-shadow: 0px 1px 3px 1px rgba(0, 0, 0, 0.15);\n",
              "      filter: drop-shadow(0px 1px 2px rgba(0, 0, 0, 0.3));\n",
              "      fill: #FFFFFF;\n",
              "    }\n",
              "  </style>\n",
              "\n",
              "      <script>\n",
              "        const buttonEl =\n",
              "          document.querySelector('#df-4088777b-91da-4f9e-b52e-0977ea629fef button.colab-df-convert');\n",
              "        buttonEl.style.display =\n",
              "          google.colab.kernel.accessAllowed ? 'block' : 'none';\n",
              "\n",
              "        async function convertToInteractive(key) {\n",
              "          const element = document.querySelector('#df-4088777b-91da-4f9e-b52e-0977ea629fef');\n",
              "          const dataTable =\n",
              "            await google.colab.kernel.invokeFunction('convertToInteractive',\n",
              "                                                     [key], {});\n",
              "          if (!dataTable) return;\n",
              "\n",
              "          const docLinkHtml = 'Like what you see? Visit the ' +\n",
              "            '<a target=\"_blank\" href=https://colab.research.google.com/notebooks/data_table.ipynb>data table notebook</a>'\n",
              "            + ' to learn more about interactive tables.';\n",
              "          element.innerHTML = '';\n",
              "          dataTable['output_type'] = 'display_data';\n",
              "          await google.colab.output.renderOutput(dataTable, element);\n",
              "          const docLink = document.createElement('div');\n",
              "          docLink.innerHTML = docLinkHtml;\n",
              "          element.appendChild(docLink);\n",
              "        }\n",
              "      </script>\n",
              "    </div>\n",
              "  </div>\n",
              "  "
            ]
          },
          "metadata": {},
          "execution_count": 4
        }
      ]
    },
    {
      "cell_type": "code",
      "source": [
        "df_tweets.info()"
      ],
      "metadata": {
        "colab": {
          "base_uri": "https://localhost:8080/"
        },
        "id": "rL6Iii1E1dpu",
        "outputId": "a81c35cd-647c-44b7-aa50-ada4b005dea3"
      },
      "execution_count": 5,
      "outputs": [
        {
          "output_type": "stream",
          "name": "stdout",
          "text": [
            "<class 'pandas.core.frame.DataFrame'>\n",
            "RangeIndex: 160000 entries, 0 to 159999\n",
            "Data columns (total 2 columns):\n",
            " #   Column           Non-Null Count   Dtype \n",
            "---  ------           --------------   ----- \n",
            " 0   sentiment_label  160000 non-null  int64 \n",
            " 1   tweet_text       160000 non-null  object\n",
            "dtypes: int64(1), object(1)\n",
            "memory usage: 2.4+ MB\n"
          ]
        }
      ]
    },
    {
      "cell_type": "code",
      "source": [
        "np.sum(df_tweets.isnull().any(axis=1))"
      ],
      "metadata": {
        "colab": {
          "base_uri": "https://localhost:8080/"
        },
        "id": "whKxwIeh1wAs",
        "outputId": "0a203811-b9b7-4767-be47-30a7dc294e30"
      },
      "execution_count": 6,
      "outputs": [
        {
          "output_type": "execute_result",
          "data": {
            "text/plain": [
              "0"
            ]
          },
          "metadata": {},
          "execution_count": 6
        }
      ]
    },
    {
      "cell_type": "markdown",
      "source": [
        "# **Data Preprocessing**"
      ],
      "metadata": {
        "id": "rDNi1D5j1yuB"
      }
    },
    {
      "cell_type": "code",
      "source": [
        "# Visualising the distribution of the sentiment label.\n",
        "sentiment ={0:\"Negative\",4:\"Positive\"}\n",
        "print(df_tweets.sentiment_label.apply(lambda x:sentiment[x]).value_counts())\n",
        "df_tweets.sentiment_label.apply(lambda x:sentiment[x]).value_counts().plot(kind ='bar')\n",
        "plt.show()\n"
      ],
      "metadata": {
        "colab": {
          "base_uri": "https://localhost:8080/",
          "height": 352
        },
        "id": "0mj_UFe62yzY",
        "outputId": "e162ddb7-477c-422e-b113-a01ee8fc2728"
      },
      "execution_count": 7,
      "outputs": [
        {
          "output_type": "stream",
          "name": "stdout",
          "text": [
            "Positive    80000\n",
            "Negative    80000\n",
            "Name: sentiment_label, dtype: int64\n"
          ]
        },
        {
          "output_type": "display_data",
          "data": {
            "text/plain": [
              "<Figure size 432x288 with 1 Axes>"
            ],
            "image/png": "[encoded data removed]"
          },
          "metadata": {
            "needs_background": "light"
          }
        }
      ]
    },
    {
      "cell_type": "code",
      "source": [
        "#selecting a subset of 50k entries and also maintaining the ratio of positive and negative sentiment label\n",
        "data_pos = df_tweets[df_tweets['sentiment_label']==4]\n",
        "data_neg = df_tweets[df_tweets['sentiment_label']==0]\n",
        "\n",
        "data_pos = data_pos.iloc[:int(25000)]\n",
        "data_neg = data_neg.iloc[:int(25000)]\n",
        "\n",
        "dataset = pd.concat([data_pos, data_neg])\n",
        "print(len(dataset))\n",
        "dataset.head(5)"
      ],
      "metadata": {
        "colab": {
          "base_uri": "https://localhost:8080/",
          "height": 224
        },
        "id": "YhLzzomaXoYE",
        "outputId": "ef6a261c-ca9a-4d32-adff-49998cceaa44"
      },
      "execution_count": 8,
      "outputs": [
        {
          "output_type": "stream",
          "name": "stdout",
          "text": [
            "50000\n"
          ]
        },
        {
          "output_type": "execute_result",
          "data": {
            "text/plain": [
              "    sentiment_label                                         tweet_text\n",
              "0                 4  @elephantbird Hey dear, Happy Friday to You  A...\n",
              "1                 4  Ughhh layin downnnn    Waiting for zeina to co...\n",
              "6                 4      With God on ur side anything is possible.... \n",
              "10                4  the video on VH1 is much better than the u tub...\n",
              "14                4  @ AshleyLTMSYF Hey Ashley  when will the Hush ..."
            ],
            "text/html": [
              "\n",
              "  <div id=\"df-8f7ef902-4cd0-4d46-b959-864072cfef99\">\n",
              "    <div class=\"colab-df-container\">\n",
              "      <div>\n",
              "<style scoped>\n",
              "    .dataframe tbody tr th:only-of-type {\n",
              "        vertical-align: middle;\n",
              "    }\n",
              "\n",
              "    .dataframe tbody tr th {\n",
              "        vertical-align: top;\n",
              "    }\n",
              "\n",
              "    .dataframe thead th {\n",
              "        text-align: right;\n",
              "    }\n",
              "</style>\n",
              "<table border=\"1\" class=\"dataframe\">\n",
              "  <thead>\n",
              "    <tr style=\"text-align: right;\">\n",
              "      <th></th>\n",
              "      <th>sentiment_label</th>\n",
              "      <th>tweet_text</th>\n",
              "    </tr>\n",
              "  </thead>\n",
              "  <tbody>\n",
              "    <tr>\n",
              "      <th>0</th>\n",
              "      <td>4</td>\n",
              "      <td>@elephantbird Hey dear, Happy Friday to You  A...</td>\n",
              "    </tr>\n",
              "    <tr>\n",
              "      <th>1</th>\n",
              "      <td>4</td>\n",
              "      <td>Ughhh layin downnnn    Waiting for zeina to co...</td>\n",
              "    </tr>\n",
              "    <tr>\n",
              "      <th>6</th>\n",
              "      <td>4</td>\n",
              "      <td>With God on ur side anything is possible....</td>\n",
              "    </tr>\n",
              "    <tr>\n",
              "      <th>10</th>\n",
              "      <td>4</td>\n",
              "      <td>the video on VH1 is much better than the u tub...</td>\n",
              "    </tr>\n",
              "    <tr>\n",
              "      <th>14</th>\n",
              "      <td>4</td>\n",
              "      <td>@ AshleyLTMSYF Hey Ashley  when will the Hush ...</td>\n",
              "    </tr>\n",
              "  </tbody>\n",
              "</table>\n",
              "</div>\n",
              "      <button class=\"colab-df-convert\" onclick=\"convertToInteractive('df-8f7ef902-4cd0-4d46-b959-864072cfef99')\"\n",
              "              title=\"Convert this dataframe to an interactive table.\"\n",
              "              style=\"display:none;\">\n",
              "        \n",
              "  <svg xmlns=\"http://www.w3.org/2000/svg\" height=\"24px\"viewBox=\"0 0 24 24\"\n",
              "       width=\"24px\">\n",
              "    <path d=\"M0 0h24v24H0V0z\" fill=\"none\"/>\n",
              "    <path d=\"M18.56 5.44l.94 2.06.94-2.06 2.06-.94-2.06-.94-.94-2.06-.94 2.06-2.06.94zm-11 1L8.5 8.5l.94-2.06 2.06-.94-2.06-.94L8.5 2.5l-.94 2.06-2.06.94zm10 10l.94 2.06.94-2.06 2.06-.94-2.06-.94-.94-2.06-.94 2.06-2.06.94z\"/><path d=\"M17.41 7.96l-1.37-1.37c-.4-.4-.92-.59-1.43-.59-.52 0-1.04.2-1.43.59L10.3 9.45l-7.72 7.72c-.78.78-.78 2.05 0 2.83L4 21.41c.39.39.9.59 1.41.59.51 0 1.02-.2 1.41-.59l7.78-7.78 2.81-2.81c.8-.78.8-2.07 0-2.86zM5.41 20L4 18.59l7.72-7.72 1.47 1.35L5.41 20z\"/>\n",
              "  </svg>\n",
              "      </button>\n",
              "      \n",
              "  <style>\n",
              "    .colab-df-container {\n",
              "      display:flex;\n",
              "      flex-wrap:wrap;\n",
              "      gap: 12px;\n",
              "    }\n",
              "\n",
              "    .colab-df-convert {\n",
              "      background-color: #E8F0FE;\n",
              "      border: none;\n",
              "      border-radius: 50%;\n",
              "      cursor: pointer;\n",
              "      display: none;\n",
              "      fill: #1967D2;\n",
              "      height: 32px;\n",
              "      padding: 0 0 0 0;\n",
              "      width: 32px;\n",
              "    }\n",
              "\n",
              "    .colab-df-convert:hover {\n",
              "      background-color: #E2EBFA;\n",
              "      box-shadow: 0px 1px 2px rgba(60, 64, 67, 0.3), 0px 1px 3px 1px rgba(60, 64, 67, 0.15);\n",
              "      fill: #174EA6;\n",
              "    }\n",
              "\n",
              "    [theme=dark] .colab-df-convert {\n",
              "      background-color: #3B4455;\n",
              "      fill: #D2E3FC;\n",
              "    }\n",
              "\n",
              "    [theme=dark] .colab-df-convert:hover {\n",
              "      background-color: #434B5C;\n",
              "      box-shadow: 0px 1px 3px 1px rgba(0, 0, 0, 0.15);\n",
              "      filter: drop-shadow(0px 1px 2px rgba(0, 0, 0, 0.3));\n",
              "      fill: #FFFFFF;\n",
              "    }\n",
              "  </style>\n",
              "\n",
              "      <script>\n",
              "        const buttonEl =\n",
              "          document.querySelector('#df-8f7ef902-4cd0-4d46-b959-864072cfef99 button.colab-df-convert');\n",
              "        buttonEl.style.display =\n",
              "          google.colab.kernel.accessAllowed ? 'block' : 'none';\n",
              "\n",
              "        async function convertToInteractive(key) {\n",
              "          const element = document.querySelector('#df-8f7ef902-4cd0-4d46-b959-864072cfef99');\n",
              "          const dataTable =\n",
              "            await google.colab.kernel.invokeFunction('convertToInteractive',\n",
              "                                                     [key], {});\n",
              "          if (!dataTable) return;\n",
              "\n",
              "          const docLinkHtml = 'Like what you see? Visit the ' +\n",
              "            '<a target=\"_blank\" href=https://colab.research.google.com/notebooks/data_table.ipynb>data table notebook</a>'\n",
              "            + ' to learn more about interactive tables.';\n",
              "          element.innerHTML = '';\n",
              "          dataTable['output_type'] = 'display_data';\n",
              "          await google.colab.output.renderOutput(dataTable, element);\n",
              "          const docLink = document.createElement('div');\n",
              "          docLink.innerHTML = docLinkHtml;\n",
              "          element.appendChild(docLink);\n",
              "        }\n",
              "      </script>\n",
              "    </div>\n",
              "  </div>\n",
              "  "
            ]
          },
          "metadata": {},
          "execution_count": 8
        }
      ]
    },
    {
      "cell_type": "markdown",
      "source": [
        "# **Cleaning Data using stop wordss, Snowball Stemmer and function defining the cleaning and processing of tweets**"
      ],
      "metadata": {
        "id": "s4uYf1egRNPX"
      }
    },
    {
      "cell_type": "code",
      "source": [
        "#Cleaning data \n",
        "# Define the set of stop words to remove\n",
        "stop_words = set(stopwords.words('english'))\n",
        "\n",
        "# Define the stemmer to use\n",
        "stemmer = SnowballStemmer('english')\n",
        "\n",
        "# Define a function to clean and preprocess a single tweet\n",
        "def tweets_clean(Tweets):\n",
        "  # Remove URLs\n",
        "    Tweets = re.sub(r'http\\S+', '', Tweets)\n",
        "    # Remove usernames\n",
        "    Tweets = re.sub(r'@[^\\s]+', '', Tweets)\n",
        "    # Remove hashtags\n",
        "    Tweets = re.sub(r'#([^\\s]+)', '', Tweets)\n",
        "    # remove punctuations and numbers\n",
        "    Tweets = re.sub(\"[^a-zA-Z]\",\" \", Tweets)\n",
        "    Tweets = re.sub('[\\s]+', ' ', Tweets)\n",
        "    # remove whitespaces\n",
        "    Tweets = ' '.join(Tweets.split())\n",
        "    Tweets = Tweets.strip('...')\n",
        "    Tweets = Tweets.replace('-',' ')\n",
        "    Tweets = Tweets.replace('.',' ')\n",
        "    Tweets = Tweets.replace(',',' ')\n",
        "    Tweets = Tweets.replace('?',' ')\n",
        "    Tweets = Tweets.replace(';',' ')\n",
        "    Tweets = Tweets.replace('$','dollar ')\n",
        "    Tweets = Tweets.replace('\"',' ')\n",
        "    Tweets = Tweets.replace('!',' ')\n",
        "    Tweets = Tweets.replace('#','  ')\n",
        "    Tweets = Tweets.replace('&',' ')\n",
        "    Tweets = Tweets.replace(\"’\", \"'\").replace(\"%\", \" percent \").replace(\"₹\", \" rupee \").replace(\"$\", \" dollar \")\n",
        "    tokens = word_tokenize(Tweets)\n",
        "    # Remove stop words and punctuation, and convert to lowercase\n",
        "    tokens = [stemmer.stem(token.lower()) for token in tokens if token not in stop_words and token not in string.punctuation]\n",
        "    # Join the tokens back into a string\n",
        "    Tweets = ' '.join(tokens)\n",
        "    return Tweets\n",
        "#Apply text cleaning function to text column in df_tweets dataframe\n",
        "dataset['tweet_text'] = dataset['tweet_text'].apply(lambda x:tweets_clean(x))"
      ],
      "metadata": {
        "id": "8G6SckPWo_qR"
      },
      "execution_count": 9,
      "outputs": []
    },
    {
      "cell_type": "code",
      "source": [
        "dataset['sentiment_label'] = dataset['sentiment_label'].apply(lambda x: 1 if x==4 else 0)"
      ],
      "metadata": {
        "id": "aJsYZ4rGdi3z"
      },
      "execution_count": 10,
      "outputs": []
    },
    {
      "cell_type": "code",
      "source": [
        "dataset"
      ],
      "metadata": {
        "colab": {
          "base_uri": "https://localhost:8080/",
          "height": 424
        },
        "id": "0qYKw3iyqA9O",
        "outputId": "2b96836f-72de-479d-a4e1-ecb407d74541"
      },
      "execution_count": 11,
      "outputs": [
        {
          "output_type": "execute_result",
          "data": {
            "text/plain": [
              "       sentiment_label                                         tweet_text\n",
              "0                    1  hey dear happi friday you alreadi rice bowl lunch\n",
              "1                    1      ughhh layin downnnn wait zeina cook breakfast\n",
              "6                    1                     with god ur side anyth possibl\n",
              "10                   1                    video vh much better u tube one\n",
              "14                   1  ashleyltmsyf hey ashley hush hush hush hush vi...\n",
              "...                ...                                                ...\n",
              "49732                0  wish love luci dvd mom im mood laugh luv oldi ...\n",
              "49735                0     tri download new iphon softwar let majorsadfac\n",
              "49736                0  it soooooooo hot outsid as hot i rememb austra...\n",
              "49742                0  day school wish wouldnt end im gunna miss ever...\n",
              "49744                0                             els i gon na meet girl\n",
              "\n",
              "[50000 rows x 2 columns]"
            ],
            "text/html": [
              "\n",
              "  <div id=\"df-17e646a8-ab7e-4b12-a80d-511495f99abf\">\n",
              "    <div class=\"colab-df-container\">\n",
              "      <div>\n",
              "<style scoped>\n",
              "    .dataframe tbody tr th:only-of-type {\n",
              "        vertical-align: middle;\n",
              "    }\n",
              "\n",
              "    .dataframe tbody tr th {\n",
              "        vertical-align: top;\n",
              "    }\n",
              "\n",
              "    .dataframe thead th {\n",
              "        text-align: right;\n",
              "    }\n",
              "</style>\n",
              "<table border=\"1\" class=\"dataframe\">\n",
              "  <thead>\n",
              "    <tr style=\"text-align: right;\">\n",
              "      <th></th>\n",
              "      <th>sentiment_label</th>\n",
              "      <th>tweet_text</th>\n",
              "    </tr>\n",
              "  </thead>\n",
              "  <tbody>\n",
              "    <tr>\n",
              "      <th>0</th>\n",
              "      <td>1</td>\n",
              "      <td>hey dear happi friday you alreadi rice bowl lunch</td>\n",
              "    </tr>\n",
              "    <tr>\n",
              "      <th>1</th>\n",
              "      <td>1</td>\n",
              "      <td>ughhh layin downnnn wait zeina cook breakfast</td>\n",
              "    </tr>\n",
              "    <tr>\n",
              "      <th>6</th>\n",
              "      <td>1</td>\n",
              "      <td>with god ur side anyth possibl</td>\n",
              "    </tr>\n",
              "    <tr>\n",
              "      <th>10</th>\n",
              "      <td>1</td>\n",
              "      <td>video vh much better u tube one</td>\n",
              "    </tr>\n",
              "    <tr>\n",
              "      <th>14</th>\n",
              "      <td>1</td>\n",
              "      <td>ashleyltmsyf hey ashley hush hush hush hush vi...</td>\n",
              "    </tr>\n",
              "    <tr>\n",
              "      <th>...</th>\n",
              "      <td>...</td>\n",
              "      <td>...</td>\n",
              "    </tr>\n",
              "    <tr>\n",
              "      <th>49732</th>\n",
              "      <td>0</td>\n",
              "      <td>wish love luci dvd mom im mood laugh luv oldi ...</td>\n",
              "    </tr>\n",
              "    <tr>\n",
              "      <th>49735</th>\n",
              "      <td>0</td>\n",
              "      <td>tri download new iphon softwar let majorsadfac</td>\n",
              "    </tr>\n",
              "    <tr>\n",
              "      <th>49736</th>\n",
              "      <td>0</td>\n",
              "      <td>it soooooooo hot outsid as hot i rememb austra...</td>\n",
              "    </tr>\n",
              "    <tr>\n",
              "      <th>49742</th>\n",
              "      <td>0</td>\n",
              "      <td>day school wish wouldnt end im gunna miss ever...</td>\n",
              "    </tr>\n",
              "    <tr>\n",
              "      <th>49744</th>\n",
              "      <td>0</td>\n",
              "      <td>els i gon na meet girl</td>\n",
              "    </tr>\n",
              "  </tbody>\n",
              "</table>\n",
              "<p>50000 rows × 2 columns</p>\n",
              "</div>\n",
              "      <button class=\"colab-df-convert\" onclick=\"convertToInteractive('df-17e646a8-ab7e-4b12-a80d-511495f99abf')\"\n",
              "              title=\"Convert this dataframe to an interactive table.\"\n",
              "              style=\"display:none;\">\n",
              "        \n",
              "  <svg xmlns=\"http://www.w3.org/2000/svg\" height=\"24px\"viewBox=\"0 0 24 24\"\n",
              "       width=\"24px\">\n",
              "    <path d=\"M0 0h24v24H0V0z\" fill=\"none\"/>\n",
              "    <path d=\"M18.56 5.44l.94 2.06.94-2.06 2.06-.94-2.06-.94-.94-2.06-.94 2.06-2.06.94zm-11 1L8.5 8.5l.94-2.06 2.06-.94-2.06-.94L8.5 2.5l-.94 2.06-2.06.94zm10 10l.94 2.06.94-2.06 2.06-.94-2.06-.94-.94-2.06-.94 2.06-2.06.94z\"/><path d=\"M17.41 7.96l-1.37-1.37c-.4-.4-.92-.59-1.43-.59-.52 0-1.04.2-1.43.59L10.3 9.45l-7.72 7.72c-.78.78-.78 2.05 0 2.83L4 21.41c.39.39.9.59 1.41.59.51 0 1.02-.2 1.41-.59l7.78-7.78 2.81-2.81c.8-.78.8-2.07 0-2.86zM5.41 20L4 18.59l7.72-7.72 1.47 1.35L5.41 20z\"/>\n",
              "  </svg>\n",
              "      </button>\n",
              "      \n",
              "  <style>\n",
              "    .colab-df-container {\n",
              "      display:flex;\n",
              "      flex-wrap:wrap;\n",
              "      gap: 12px;\n",
              "    }\n",
              "\n",
              "    .colab-df-convert {\n",
              "      background-color: #E8F0FE;\n",
              "      border: none;\n",
              "      border-radius: 50%;\n",
              "      cursor: pointer;\n",
              "      display: none;\n",
              "      fill: #1967D2;\n",
              "      height: 32px;\n",
              "      padding: 0 0 0 0;\n",
              "      width: 32px;\n",
              "    }\n",
              "\n",
              "    .colab-df-convert:hover {\n",
              "      background-color: #E2EBFA;\n",
              "      box-shadow: 0px 1px 2px rgba(60, 64, 67, 0.3), 0px 1px 3px 1px rgba(60, 64, 67, 0.15);\n",
              "      fill: #174EA6;\n",
              "    }\n",
              "\n",
              "    [theme=dark] .colab-df-convert {\n",
              "      background-color: #3B4455;\n",
              "      fill: #D2E3FC;\n",
              "    }\n",
              "\n",
              "    [theme=dark] .colab-df-convert:hover {\n",
              "      background-color: #434B5C;\n",
              "      box-shadow: 0px 1px 3px 1px rgba(0, 0, 0, 0.15);\n",
              "      filter: drop-shadow(0px 1px 2px rgba(0, 0, 0, 0.3));\n",
              "      fill: #FFFFFF;\n",
              "    }\n",
              "  </style>\n",
              "\n",
              "      <script>\n",
              "        const buttonEl =\n",
              "          document.querySelector('#df-17e646a8-ab7e-4b12-a80d-511495f99abf button.colab-df-convert');\n",
              "        buttonEl.style.display =\n",
              "          google.colab.kernel.accessAllowed ? 'block' : 'none';\n",
              "\n",
              "        async function convertToInteractive(key) {\n",
              "          const element = document.querySelector('#df-17e646a8-ab7e-4b12-a80d-511495f99abf');\n",
              "          const dataTable =\n",
              "            await google.colab.kernel.invokeFunction('convertToInteractive',\n",
              "                                                     [key], {});\n",
              "          if (!dataTable) return;\n",
              "\n",
              "          const docLinkHtml = 'Like what you see? Visit the ' +\n",
              "            '<a target=\"_blank\" href=https://colab.research.google.com/notebooks/data_table.ipynb>data table notebook</a>'\n",
              "            + ' to learn more about interactive tables.';\n",
              "          element.innerHTML = '';\n",
              "          dataTable['output_type'] = 'display_data';\n",
              "          await google.colab.output.renderOutput(dataTable, element);\n",
              "          const docLink = document.createElement('div');\n",
              "          docLink.innerHTML = docLinkHtml;\n",
              "          element.appendChild(docLink);\n",
              "        }\n",
              "      </script>\n",
              "    </div>\n",
              "  </div>\n",
              "  "
            ]
          },
          "metadata": {},
          "execution_count": 11
        }
      ]
    },
    {
      "cell_type": "markdown",
      "source": [
        "# **EDA showing the most repeted words in whole dataset which are splitted into negative and positive tweets**"
      ],
      "metadata": {
        "id": "Qfyt76BQRkWm"
      }
    },
    {
      "cell_type": "code",
      "source": [
        "# Spliting dataset to negatives and positives for EDA\n",
        "negatives=dataset['sentiment_label']==0\n",
        "positives=dataset['sentiment_label']==1\n",
        "\n",
        "# Number of words for each tweet\n",
        "dataset['No_of_Words']=[len(text.split()) for text in dataset['tweet_text']]"
      ],
      "metadata": {
        "id": "_JwxMgDrR2jq"
      },
      "execution_count": 12,
      "outputs": []
    },
    {
      "cell_type": "code",
      "source": [
        "dataset['Words'] = dataset['tweet_text'].apply(lambda x:str(x).split())\n",
        "\n",
        "top_pos = Counter([word for text in dataset[positives]['Words'] for word in text])\n",
        "top_pos_df=pd.DataFrame(top_pos.most_common(100),columns=['Words','Counts'])\n",
        "\n",
        "top_neg = Counter([word for text in dataset[negatives]['Words'] for word in text])\n",
        "top_neg_df=pd.DataFrame(top_neg.most_common(100),columns=['Words','Counts'])"
      ],
      "metadata": {
        "id": "TD-5mM-VTDsk"
      },
      "execution_count": 13,
      "outputs": []
    },
    {
      "cell_type": "code",
      "source": [
        "\n",
        "fig,ax=plt.subplots(nrows=1,ncols=2,figsize=(16,8))\n",
        "sns.barplot(y='Words',x='Counts',data=top_pos_df[:20],color='deepskyblue',ax=ax[0])\n",
        "sns.barplot(y='Words',x='Counts',data=top_neg_df[:20],color='coral',ax=ax[1])\n",
        "ax[0].set_title(\"Most Frequent words in Positive tweets\")\n",
        "ax[1].set_title(\"Most Frequent words in Negative tweets\")\n",
        "plt.show()"
      ],
      "metadata": {
        "colab": {
          "base_uri": "https://localhost:8080/",
          "height": 513
        },
        "id": "JTUeoYrgUS63",
        "outputId": "88d41b0b-d527-4d1e-a388-da15ccf191fd"
      },
      "execution_count": 14,
      "outputs": [
        {
          "output_type": "display_data",
          "data": {
            "text/plain": [
              "<Figure size 1152x576 with 2 Axes>"
            ],
            "image/png": "[encoded data removed]"
          },
          "metadata": {
            "needs_background": "light"
          }
        }
      ]
    },
    {
      "cell_type": "markdown",
      "source": [
        "# **Splitting data into training and test**"
      ],
      "metadata": {
        "id": "aiVsjErxVjQ1"
      }
    },
    {
      "cell_type": "code",
      "source": [
        "from keras.preprocessing.text import Tokenizer\n",
        "from tensorflow.keras.preprocessing.sequence import pad_sequences\n",
        "import tensorflow as tf\n",
        "from keras.models import Sequential\n",
        "from keras.layers import Activation, Dense, Dropout, Embedding, Flatten, Conv1D, MaxPooling1D, LSTM\n",
        "from keras import utils\n",
        "from keras.callbacks import ReduceLROnPlateau, EarlyStopping\n",
        "import gensim\n",
        "from keras.preprocessing.text import Tokenizer"
      ],
      "metadata": {
        "id": "DRF-6GT5OaBc"
      },
      "execution_count": 15,
      "outputs": []
    },
    {
      "cell_type": "code",
      "source": [
        "Train_size = 0.7\n",
        "MAX_NB_WORDS = 100000\n",
        "max_len = 100"
      ],
      "metadata": {
        "id": "L2X0w7zhUuW6"
      },
      "execution_count": 17,
      "outputs": []
    },
    {
      "cell_type": "code",
      "source": [
        "#X_train, X_test, Y_train, Y_test = train_test_split(X, Y, test_size=0.2, random_state=42)\n",
        "\n",
        "x_train,x_test,y_train,y_test = train_test_split(dataset['tweet_text'],dataset['sentiment_label'] , test_size=.3, random_state=42)"
      ],
      "metadata": {
        "id": "4-98LKWMWDq7"
      },
      "execution_count": 18,
      "outputs": []
    },
    {
      "cell_type": "code",
      "source": [
        "y_train"
      ],
      "metadata": {
        "colab": {
          "base_uri": "https://localhost:8080/"
        },
        "id": "VkklGq_l3FeU",
        "outputId": "76f09c06-7790-46d6-8569-0c4eeb230371"
      },
      "execution_count": 19,
      "outputs": [
        {
          "output_type": "execute_result",
          "data": {
            "text/plain": [
              "26087    0\n",
              "31254    0\n",
              "48598    0\n",
              "21425    0\n",
              "33354    0\n",
              "        ..\n",
              "22674    1\n",
              "39398    0\n",
              "26231    0\n",
              "1756     1\n",
              "31601    1\n",
              "Name: sentiment_label, Length: 35000, dtype: int64"
            ]
          },
          "metadata": {},
          "execution_count": 19
        }
      ]
    },
    {
      "cell_type": "markdown",
      "source": [
        "# **Tokenize the tweets and pad the sequences to a fixed length**\n"
      ],
      "metadata": {
        "id": "Gd2GdxrYSDBr"
      }
    },
    {
      "cell_type": "code",
      "source": [
        "\n",
        "tokenizer = Tokenizer()\n",
        "tokenizer.fit_on_texts(x_train)\n",
        "word_index = tokenizer.word_index\n",
        "\n",
        "\n",
        "# Adding 1 because of reserved 0 index\n",
        "vocab_size = len(tokenizer.word_index) + 1\n",
        "\n",
        "\n",
        "x_train = pad_sequences(tokenizer.texts_to_sequences(x_train),\n",
        "                        maxlen = max_len)\n",
        "x_test = pad_sequences(tokenizer.texts_to_sequences(x_test),\n",
        "                       maxlen = max_len)\n"
      ],
      "metadata": {
        "id": "PEwwyEn5dwIt"
      },
      "execution_count": 20,
      "outputs": []
    },
    {
      "cell_type": "markdown",
      "source": [
        "# **Embedding** "
      ],
      "metadata": {
        "id": "XDFg0tF-SL3U"
      }
    },
    {
      "cell_type": "code",
      "source": [
        "from google.colab import drive\n",
        "drive.mount('/content/gdrive')"
      ],
      "metadata": {
        "colab": {
          "base_uri": "https://localhost:8080/"
        },
        "id": "D4tt1t4DVJd6",
        "outputId": "14783be1-72ab-42c8-b39f-cdc0036eb008"
      },
      "execution_count": 21,
      "outputs": [
        {
          "output_type": "stream",
          "name": "stdout",
          "text": [
            "Mounted at /content/gdrive\n"
          ]
        }
      ]
    },
    {
      "cell_type": "code",
      "source": [
        "from numpy import array\n",
        "from numpy import asarray\n",
        "from numpy import zeros\n",
        "\n",
        "embeddings_dictionary = dict()\n",
        "glove_file = open('/content/gdrive/MyDrive/glove.6B.100d.txt', encoding=\"utf8\")\n",
        "\n",
        "for line in glove_file:\n",
        "    records = line.split()\n",
        "    word = records[0]\n",
        "    vector_dimensions = asarray(records[1:], dtype='float32')\n",
        "    embeddings_dictionary [word] = vector_dimensions\n",
        "glove_file.close()"
      ],
      "metadata": {
        "id": "KmGE0pKgFyYy"
      },
      "execution_count": 22,
      "outputs": []
    },
    {
      "cell_type": "code",
      "source": [
        "embedding_matrix = zeros((100000, 100))\n",
        "for word, index in tokenizer.word_index.items():\n",
        "    embedding_vector = embeddings_dictionary.get(word)\n",
        "    if embedding_vector is not None:\n",
        "        embedding_matrix[index] = embedding_vector"
      ],
      "metadata": {
        "id": "7VpXfPx4UY46"
      },
      "execution_count": 23,
      "outputs": []
    },
    {
      "cell_type": "code",
      "source": [
        "embedding_matrix"
      ],
      "metadata": {
        "colab": {
          "base_uri": "https://localhost:8080/"
        },
        "id": "5RAr_R7_VdbZ",
        "outputId": "3de43670-ed5d-4ce9-a24a-f38c404c6274"
      },
      "execution_count": 24,
      "outputs": [
        {
          "output_type": "execute_result",
          "data": {
            "text/plain": [
              "array([[ 0.        ,  0.        ,  0.        , ...,  0.        ,\n",
              "         0.        ,  0.        ],\n",
              "       [-0.046539  ,  0.61966002,  0.56647003, ..., -0.37616   ,\n",
              "        -0.032502  ,  0.80620003],\n",
              "       [-0.078894  ,  0.46160001,  0.57779002, ...,  0.26352   ,\n",
              "         0.59397   ,  0.26741001],\n",
              "       ...,\n",
              "       [ 0.        ,  0.        ,  0.        , ...,  0.        ,\n",
              "         0.        ,  0.        ],\n",
              "       [ 0.        ,  0.        ,  0.        , ...,  0.        ,\n",
              "         0.        ,  0.        ],\n",
              "       [ 0.        ,  0.        ,  0.        , ...,  0.        ,\n",
              "         0.        ,  0.        ]])"
            ]
          },
          "metadata": {},
          "execution_count": 24
        }
      ]
    },
    {
      "cell_type": "markdown",
      "source": [
        "# **LSTM**"
      ],
      "metadata": {
        "id": "r3-MqPsPFzDn"
      }
    },
    {
      "cell_type": "code",
      "source": [
        "\n",
        "from keras.models import Sequential\n",
        "from keras.layers import Embedding, LSTM, Dense, SpatialDropout1D"
      ],
      "metadata": {
        "id": "P4XPSsC7myvh"
      },
      "execution_count": 25,
      "outputs": []
    },
    {
      "cell_type": "code",
      "source": [
        "# Define the LSTM model\n",
        "model = Sequential()\n",
        "model.add(Embedding(input_dim=MAX_NB_WORDS, weights=[embedding_matrix], output_dim=100, input_length=max_len))\n",
        "model.add(LSTM(128))\n",
        "model.add(Flatten())\n",
        "\n",
        "model.add(Dense(1, activation='sigmoid'))\n"
      ],
      "metadata": {
        "id": "k7glHwDJoPt_"
      },
      "execution_count": 26,
      "outputs": []
    },
    {
      "cell_type": "code",
      "source": [
        "# Compile the model\n",
        "model.compile(optimizer='adam', loss='binary_crossentropy', metrics=['accuracy'])\n"
      ],
      "metadata": {
        "id": "Q6sqqvJ7oN0X"
      },
      "execution_count": 27,
      "outputs": []
    },
    {
      "cell_type": "code",
      "source": [
        "print(model.summary())"
      ],
      "metadata": {
        "id": "cHJMBTZaoiH_",
        "colab": {
          "base_uri": "https://localhost:8080/"
        },
        "outputId": "024bdfbc-eae8-4791-f652-79f8a1244536"
      },
      "execution_count": 28,
      "outputs": [
        {
          "output_type": "stream",
          "name": "stdout",
          "text": [
            "Model: \"sequential\"\n",
            "_________________________________________________________________\n",
            " Layer (type)                Output Shape              Param #   \n",
            "=================================================================\n",
            " embedding (Embedding)       (None, 100, 100)          10000000  \n",
            "                                                                 \n",
            " lstm (LSTM)                 (None, 128)               117248    \n",
            "                                                                 \n",
            " flatten (Flatten)           (None, 128)               0         \n",
            "                                                                 \n",
            " dense (Dense)               (None, 1)                 129       \n",
            "                                                                 \n",
            "=================================================================\n",
            "Total params: 10,117,377\n",
            "Trainable params: 10,117,377\n",
            "Non-trainable params: 0\n",
            "_________________________________________________________________\n",
            "None\n"
          ]
        }
      ]
    },
    {
      "cell_type": "code",
      "source": [
        "# Train the model\n",
        "history = model.fit(x_train, y_train, batch_size=32, epochs=10, verbose=1, validation_data=(x_test, y_test))\n"
      ],
      "metadata": {
        "id": "Ymwl9TGS67im",
        "colab": {
          "base_uri": "https://localhost:8080/"
        },
        "outputId": "d7d2fb70-1aa3-414a-ae23-4931f948cbc6"
      },
      "execution_count": 29,
      "outputs": [
        {
          "output_type": "stream",
          "name": "stdout",
          "text": [
            "Epoch 1/10\n",
            "1094/1094 [==============================] - 509s 463ms/step - loss: 0.5434 - accuracy: 0.7211 - val_loss: 0.5037 - val_accuracy: 0.7477\n",
            "Epoch 2/10\n",
            "1094/1094 [==============================] - 571s 522ms/step - loss: 0.4367 - accuracy: 0.7986 - val_loss: 0.5097 - val_accuracy: 0.7541\n",
            "Epoch 3/10\n",
            "1094/1094 [==============================] - 530s 484ms/step - loss: 0.3549 - accuracy: 0.8439 - val_loss: 0.5547 - val_accuracy: 0.7445\n",
            "Epoch 4/10\n",
            "1094/1094 [==============================] - 503s 460ms/step - loss: 0.2855 - accuracy: 0.8776 - val_loss: 0.6206 - val_accuracy: 0.7307\n",
            "Epoch 5/10\n",
            "1094/1094 [==============================] - 500s 457ms/step - loss: 0.2228 - accuracy: 0.9050 - val_loss: 0.7507 - val_accuracy: 0.7310\n",
            "Epoch 6/10\n",
            "1094/1094 [==============================] - 504s 461ms/step - loss: 0.1738 - accuracy: 0.9276 - val_loss: 0.8592 - val_accuracy: 0.7253\n",
            "Epoch 7/10\n",
            "1094/1094 [==============================] - 495s 453ms/step - loss: 0.1350 - accuracy: 0.9429 - val_loss: 1.0749 - val_accuracy: 0.7237\n",
            "Epoch 8/10\n",
            "1094/1094 [==============================] - 501s 458ms/step - loss: 0.1076 - accuracy: 0.9553 - val_loss: 1.1503 - val_accuracy: 0.7167\n",
            "Epoch 9/10\n",
            "1094/1094 [==============================] - 502s 459ms/step - loss: 0.0842 - accuracy: 0.9655 - val_loss: 1.4013 - val_accuracy: 0.7171\n",
            "Epoch 10/10\n",
            "1094/1094 [==============================] - 506s 463ms/step - loss: 0.0632 - accuracy: 0.9745 - val_loss: 1.5160 - val_accuracy: 0.7157\n"
          ]
        }
      ]
    },
    {
      "cell_type": "code",
      "source": [
        "score = model.evaluate(x_test, y_test, verbose=1)"
      ],
      "metadata": {
        "id": "SHW0d22h0Sh8",
        "colab": {
          "base_uri": "https://localhost:8080/"
        },
        "outputId": "6b445de0-74be-4644-e810-09c4d7246890"
      },
      "execution_count": 30,
      "outputs": [
        {
          "output_type": "stream",
          "name": "stdout",
          "text": [
            "469/469 [==============================] - 32s 68ms/step - loss: 1.5160 - accuracy: 0.7157\n"
          ]
        }
      ]
    },
    {
      "cell_type": "code",
      "source": [
        "\n",
        "print(\"Test Accuracy:\", score[1])\n"
      ],
      "metadata": {
        "id": "xQLhw5EppXah",
        "colab": {
          "base_uri": "https://localhost:8080/"
        },
        "outputId": "9c653d7c-9593-473b-a997-1cc0eeb300cf"
      },
      "execution_count": 32,
      "outputs": [
        {
          "output_type": "stream",
          "name": "stdout",
          "text": [
            "Test Accuracy: 0.715666651725769\n"
          ]
        }
      ]
    },
    {
      "cell_type": "markdown",
      "source": [
        "# **Visualizing model accuracy and model loss**\n",
        "\n",
        "\n"
      ],
      "metadata": {
        "id": "FP-PxcCvS-b5"
      }
    },
    {
      "cell_type": "code",
      "source": [
        "plt.plot(history.history['accuracy'])\n",
        "plt.plot(history.history['val_accuracy'])\n",
        "\n",
        "plt.title('model accuracy')\n",
        "plt.ylabel('accuracy')\n",
        "plt.xlabel('epoch')\n",
        "plt.legend(['train','test'], loc = 'upper left')\n",
        "plt.show()\n",
        "\n",
        "plt.plot(history.history['loss'])\n",
        "plt.plot(history.history['val_loss'])\n",
        "\n",
        "plt.title('model loss')\n",
        "plt.ylabel('loss')\n",
        "plt.xlabel('epoch')\n",
        "plt.legend(['train','test'], loc = 'upper left')\n",
        "plt.show()"
      ],
      "metadata": {
        "id": "7K15jKBrpa7p",
        "colab": {
          "base_uri": "https://localhost:8080/",
          "height": 573
        },
        "outputId": "9c60541e-a676-4e70-e519-4b0c99dbd037"
      },
      "execution_count": 33,
      "outputs": [
        {
          "output_type": "display_data",
          "data": {
            "text/plain": [
              "<Figure size 432x288 with 1 Axes>"
            ],
            "image/png": "[encoded data removed]"
          },
          "metadata": {
            "needs_background": "light"
          }
        },
        {
          "output_type": "display_data",
          "data": {
            "text/plain": [
              "<Figure size 432x288 with 1 Axes>"
            ],
            "image/png": "[encoded data removed]"
          },
          "metadata": {
            "needs_background": "light"
          }
        }
      ]
    },
    {
      "cell_type": "markdown",
      "source": [
        "# **CNN**"
      ],
      "metadata": {
        "id": "mH6NNeq29ayA"
      }
    },
    {
      "cell_type": "code",
      "source": [
        "\n",
        "from tensorflow.keras.layers import Conv1D, GlobalMaxPooling1D, Dropout\n",
        "\n",
        "from sklearn.metrics import accuracy_score, confusion_matrix\n"
      ],
      "metadata": {
        "id": "zSlLocVX824t"
      },
      "execution_count": 34,
      "outputs": []
    },
    {
      "cell_type": "code",
      "source": [
        "modelCNN = Sequential()\n",
        "modelCNN.add(Embedding(input_dim=MAX_NB_WORDS, weights=[embedding_matrix], output_dim=100, input_length=max_len))\n",
        "modelCNN.add(Conv1D(filters=32, kernel_size=3, activation='relu'))\n",
        "modelCNN.add(GlobalMaxPooling1D())\n",
        "modelCNN.add(Dense(units=64, activation='relu'))\n",
        "modelCNN.add(Dropout(0.5))\n",
        "modelCNN.add(Dense(units=1, activation='sigmoid'))\n",
        "\n"
      ],
      "metadata": {
        "id": "-MnG9sQJ98BI"
      },
      "execution_count": 35,
      "outputs": []
    },
    {
      "cell_type": "code",
      "source": [
        "modelCNN.compile(optimizer='adam', loss='binary_crossentropy', metrics=['accuracy'])\n"
      ],
      "metadata": {
        "id": "fk6pfeXDZxBW"
      },
      "execution_count": 36,
      "outputs": []
    },
    {
      "cell_type": "code",
      "source": [
        "print(modelCNN.summary())"
      ],
      "metadata": {
        "colab": {
          "base_uri": "https://localhost:8080/"
        },
        "id": "ZMJVoPDEsmx5",
        "outputId": "cb6dea67-64e5-41ad-b624-51438762a0ec"
      },
      "execution_count": 37,
      "outputs": [
        {
          "output_type": "stream",
          "name": "stdout",
          "text": [
            "Model: \"sequential_1\"\n",
            "_________________________________________________________________\n",
            " Layer (type)                Output Shape              Param #   \n",
            "=================================================================\n",
            " embedding_1 (Embedding)     (None, 100, 100)          10000000  \n",
            "                                                                 \n",
            " conv1d (Conv1D)             (None, 98, 32)            9632      \n",
            "                                                                 \n",
            " global_max_pooling1d (Globa  (None, 32)               0         \n",
            " lMaxPooling1D)                                                  \n",
            "                                                                 \n",
            " dense_1 (Dense)             (None, 64)                2112      \n",
            "                                                                 \n",
            " dropout (Dropout)           (None, 64)                0         \n",
            "                                                                 \n",
            " dense_2 (Dense)             (None, 1)                 65        \n",
            "                                                                 \n",
            "=================================================================\n",
            "Total params: 10,011,809\n",
            "Trainable params: 10,011,809\n",
            "Non-trainable params: 0\n",
            "_________________________________________________________________\n",
            "None\n"
          ]
        }
      ]
    },
    {
      "cell_type": "code",
      "source": [
        "historyCNN = modelCNN.fit(x_train, y_train, validation_data=(x_test, y_test), epochs=10, batch_size=32)"
      ],
      "metadata": {
        "colab": {
          "base_uri": "https://localhost:8080/"
        },
        "id": "Q3ON7XvVZ1Xt",
        "outputId": "25c94b57-4c0f-4443-ede0-c3dc985f47c0"
      },
      "execution_count": 38,
      "outputs": [
        {
          "output_type": "stream",
          "name": "stdout",
          "text": [
            "Epoch 1/10\n",
            "1094/1094 [==============================] - 273s 248ms/step - loss: 0.5941 - accuracy: 0.6719 - val_loss: 0.5312 - val_accuracy: 0.7329\n",
            "Epoch 2/10\n",
            "1094/1094 [==============================] - 268s 245ms/step - loss: 0.4798 - accuracy: 0.7750 - val_loss: 0.5215 - val_accuracy: 0.7364\n",
            "Epoch 3/10\n",
            "1094/1094 [==============================] - 267s 244ms/step - loss: 0.3883 - accuracy: 0.8295 - val_loss: 0.5599 - val_accuracy: 0.7391\n",
            "Epoch 4/10\n",
            "1094/1094 [==============================] - 265s 242ms/step - loss: 0.2859 - accuracy: 0.8805 - val_loss: 0.6666 - val_accuracy: 0.7160\n",
            "Epoch 5/10\n",
            "1094/1094 [==============================] - 269s 245ms/step - loss: 0.1968 - accuracy: 0.9219 - val_loss: 0.7767 - val_accuracy: 0.7192\n",
            "Epoch 6/10\n",
            "1094/1094 [==============================] - 266s 244ms/step - loss: 0.1374 - accuracy: 0.9474 - val_loss: 0.9674 - val_accuracy: 0.7142\n",
            "Epoch 7/10\n",
            "1094/1094 [==============================] - 265s 242ms/step - loss: 0.1011 - accuracy: 0.9611 - val_loss: 1.1591 - val_accuracy: 0.7085\n",
            "Epoch 8/10\n",
            "1094/1094 [==============================] - 266s 243ms/step - loss: 0.0791 - accuracy: 0.9688 - val_loss: 1.3304 - val_accuracy: 0.7017\n",
            "Epoch 9/10\n",
            "1094/1094 [==============================] - 267s 244ms/step - loss: 0.0623 - accuracy: 0.9752 - val_loss: 1.6398 - val_accuracy: 0.7060\n",
            "Epoch 10/10\n",
            "1094/1094 [==============================] - 270s 246ms/step - loss: 0.0542 - accuracy: 0.9781 - val_loss: 1.7590 - val_accuracy: 0.7020\n"
          ]
        }
      ]
    },
    {
      "cell_type": "code",
      "source": [
        "# Evaluate the model on the test set\n",
        "scoreCNN = modelCNN.evaluate(x_test, y_test, verbose=0)"
      ],
      "metadata": {
        "id": "PvYGcyAklvik"
      },
      "execution_count": 40,
      "outputs": []
    },
    {
      "cell_type": "code",
      "source": [
        "print('Test accuracy:', scoreCNN[1])"
      ],
      "metadata": {
        "colab": {
          "base_uri": "https://localhost:8080/"
        },
        "id": "9naeIfYsjUSd",
        "outputId": "57b72862-df46-4bc4-ad65-ab17e8829582"
      },
      "execution_count": 41,
      "outputs": [
        {
          "output_type": "stream",
          "name": "stdout",
          "text": [
            "Test accuracy: 0.7020000219345093\n"
          ]
        }
      ]
    },
    {
      "cell_type": "markdown",
      "source": [
        "# **Visualizing model accuracy and model loss**\n"
      ],
      "metadata": {
        "id": "A2NT7_itURMk"
      }
    },
    {
      "cell_type": "code",
      "source": [
        "plt.plot(historyCNN.history['accuracy'])\n",
        "plt.plot(historyCNN.history['val_accuracy'])\n",
        "\n",
        "plt.title('model accuracy')\n",
        "plt.ylabel('accuracy')\n",
        "plt.xlabel('epoch')\n",
        "plt.legend(['train','test'], loc = 'upper left')\n",
        "plt.show()\n",
        "\n",
        "plt.plot(historyCNN.history['loss'])\n",
        "plt.plot(historyCNN.history['val_loss'])\n",
        "\n",
        "plt.title('model loss')\n",
        "plt.ylabel('loss')\n",
        "plt.xlabel('epoch')\n",
        "plt.legend(['train','test'], loc = 'upper left')\n",
        "plt.show()"
      ],
      "metadata": {
        "colab": {
          "base_uri": "https://localhost:8080/",
          "height": 573
        },
        "id": "ekIZ8p6rlztT",
        "outputId": "3f6daffa-abdc-4be4-9c1a-f587317032e4"
      },
      "execution_count": 42,
      "outputs": [
        {
          "output_type": "display_data",
          "data": {
            "text/plain": [
              "<Figure size 432x288 with 1 Axes>"
            ],
            "image/png": "[encoded data removed]"
          },
          "metadata": {
            "needs_background": "light"
          }
        },
        {
          "output_type": "display_data",
          "data": {
            "text/plain": [
              "<Figure size 432x288 with 1 Axes>"
            ],
            "image/png": "[encoded data removed]"
          },
          "metadata": {
            "needs_background": "light"
          }
        }
      ]
    }
  ]
}